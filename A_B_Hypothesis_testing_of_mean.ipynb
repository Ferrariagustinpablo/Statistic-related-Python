{
  "nbformat": 4,
  "nbformat_minor": 0,
  "metadata": {
    "colab": {
      "name": "A/B Hypothesis testing of mean.ipynb",
      "provenance": [],
      "collapsed_sections": [],
      "authorship_tag": "ABX9TyOYQCgMgawAO5PncpplTWg0",
      "include_colab_link": true
    },
    "kernelspec": {
      "name": "python3",
      "display_name": "Python 3"
    }
  },
  "cells": [
    {
      "cell_type": "markdown",
      "metadata": {
        "id": "view-in-github",
        "colab_type": "text"
      },
      "source": [
        "<a href=\"https://colab.research.google.com/github/Ferrariagustinpablo/Statistic-related-Python/blob/main/A_B_Hypothesis_testing_of_mean.ipynb\" target=\"_parent\"><img src=\"https://colab.research.google.com/assets/colab-badge.svg\" alt=\"Open In Colab\"/></a>"
      ]
    },
    {
      "cell_type": "code",
      "metadata": {
        "id": "Sbg5_ZKAulmS"
      },
      "source": [
        "from sklearn import datasets\n",
        "import pandas as pd\n",
        "import numpy as np\n",
        "import matplotlib.pyplot as plt\n",
        "import seaborn as sns\n",
        "plt.style.use('ggplot')"
      ],
      "execution_count": null,
      "outputs": []
    },
    {
      "cell_type": "code",
      "metadata": {
        "id": "deVa8Rm1uoWU",
        "colab": {
          "base_uri": "https://localhost:8080/",
          "height": 204
        },
        "outputId": "31ed5877-841f-45eb-cf47-020a4b465ac3"
      },
      "source": [
        "link = 'https://assets.datacamp.com/production/repositories/1646/datasets/2751adce60684a03d8b4132adeadab8a0b95ee56/AB_testing_exercise.csv'\n",
        "\n",
        "ab_test_results = pd.read_csv(link)\n",
        "\n",
        "ab_test_results.head()"
      ],
      "execution_count": null,
      "outputs": [
        {
          "output_type": "execute_result",
          "data": {
            "text/html": [
              "<div>\n",
              "<style scoped>\n",
              "    .dataframe tbody tr th:only-of-type {\n",
              "        vertical-align: middle;\n",
              "    }\n",
              "\n",
              "    .dataframe tbody tr th {\n",
              "        vertical-align: top;\n",
              "    }\n",
              "\n",
              "    .dataframe thead th {\n",
              "        text-align: right;\n",
              "    }\n",
              "</style>\n",
              "<table border=\"1\" class=\"dataframe\">\n",
              "  <thead>\n",
              "    <tr style=\"text-align: right;\">\n",
              "      <th></th>\n",
              "      <th>uid</th>\n",
              "      <th>country</th>\n",
              "      <th>gender</th>\n",
              "      <th>spent</th>\n",
              "      <th>purchases</th>\n",
              "      <th>date</th>\n",
              "      <th>group</th>\n",
              "      <th>device</th>\n",
              "    </tr>\n",
              "  </thead>\n",
              "  <tbody>\n",
              "    <tr>\n",
              "      <th>0</th>\n",
              "      <td>11115722</td>\n",
              "      <td>MEX</td>\n",
              "      <td>F</td>\n",
              "      <td>1595</td>\n",
              "      <td>5</td>\n",
              "      <td>2016-03-08</td>\n",
              "      <td>GRP B</td>\n",
              "      <td>I</td>\n",
              "    </tr>\n",
              "    <tr>\n",
              "      <th>1</th>\n",
              "      <td>11122053</td>\n",
              "      <td>USA</td>\n",
              "      <td>M</td>\n",
              "      <td>498</td>\n",
              "      <td>2</td>\n",
              "      <td>2017-07-14</td>\n",
              "      <td>GRP B</td>\n",
              "      <td>I</td>\n",
              "    </tr>\n",
              "    <tr>\n",
              "      <th>2</th>\n",
              "      <td>11128688</td>\n",
              "      <td>USA</td>\n",
              "      <td>F</td>\n",
              "      <td>2394</td>\n",
              "      <td>6</td>\n",
              "      <td>2017-09-17</td>\n",
              "      <td>GRP A</td>\n",
              "      <td>I</td>\n",
              "    </tr>\n",
              "    <tr>\n",
              "      <th>3</th>\n",
              "      <td>11130578</td>\n",
              "      <td>USA</td>\n",
              "      <td>F</td>\n",
              "      <td>1197</td>\n",
              "      <td>3</td>\n",
              "      <td>2017-11-30</td>\n",
              "      <td>GRP A</td>\n",
              "      <td>I</td>\n",
              "    </tr>\n",
              "    <tr>\n",
              "      <th>4</th>\n",
              "      <td>11130759</td>\n",
              "      <td>ESP</td>\n",
              "      <td>M</td>\n",
              "      <td>1297</td>\n",
              "      <td>3</td>\n",
              "      <td>2018-01-10</td>\n",
              "      <td>GRP B</td>\n",
              "      <td>A</td>\n",
              "    </tr>\n",
              "  </tbody>\n",
              "</table>\n",
              "</div>"
            ],
            "text/plain": [
              "        uid country gender  spent  purchases        date  group device\n",
              "0  11115722     MEX      F   1595          5  2016-03-08  GRP B      I\n",
              "1  11122053     USA      M    498          2  2017-07-14  GRP B      I\n",
              "2  11128688     USA      F   2394          6  2017-09-17  GRP A      I\n",
              "3  11130578     USA      F   1197          3  2017-11-30  GRP A      I\n",
              "4  11130759     ESP      M   1297          3  2018-01-10  GRP B      A"
            ]
          },
          "metadata": {
            "tags": []
          },
          "execution_count": 3
        }
      ]
    },
    {
      "cell_type": "code",
      "metadata": {
        "id": "gFBGCcRNurDM",
        "colab": {
          "base_uri": "https://localhost:8080/"
        },
        "outputId": "21db1385-1cbe-4165-c597-495b36b8c56a"
      },
      "source": [
        "ab_test_results.group.unique()"
      ],
      "execution_count": null,
      "outputs": [
        {
          "output_type": "execute_result",
          "data": {
            "text/plain": [
              "array(['GRP B', 'GRP A'], dtype=object)"
            ]
          },
          "metadata": {
            "tags": []
          },
          "execution_count": 5
        }
      ]
    },
    {
      "cell_type": "code",
      "metadata": {
        "colab": {
          "base_uri": "https://localhost:8080/"
        },
        "id": "QWT1znUjcY0c",
        "outputId": "b0efbf85-b9d5-438c-e29f-95c76868da17"
      },
      "source": [
        "# Confirm the size the groups are similar\n",
        "results = ab_test_results.groupby('group').agg({'uid': pd.Series.nunique}) \n",
        "print(results)"
      ],
      "execution_count": null,
      "outputs": [
        {
          "output_type": "stream",
          "text": [
            "         uid\n",
            "group       \n",
            "GRP A  23009\n",
            "GRP B  22874\n"
          ],
          "name": "stdout"
        }
      ]
    },
    {
      "cell_type": "code",
      "metadata": {
        "colab": {
          "base_uri": "https://localhost:8080/"
        },
        "id": "AVFCodYWerlM",
        "outputId": "2d5b93e4-400e-4217-8c1d-f9d9b32b3106"
      },
      "source": [
        "# Find the unique users in each group \n",
        "results = ab_test_results.groupby(by=['group', 'device', 'gender']).agg({'uid': pd.Series.nunique}) \n",
        "\n",
        "# Find the overall number of unique users using \"len\" and \"unique\"\n",
        "unique_users = len(ab_test_results.uid.unique())\n",
        "\n",
        "# Find the percentage in each group\n",
        "results = results / unique_users * 100\n",
        "print(results)"
      ],
      "execution_count": null,
      "outputs": [
        {
          "output_type": "stream",
          "text": [
            "                           uid\n",
            "group device gender           \n",
            "GRP A A      F       12.239827\n",
            "             M       12.795589\n",
            "      I      F       12.542772\n",
            "             M       12.568925\n",
            "GRP B A      F       12.553669\n",
            "             M       12.499183\n",
            "      I      F       12.283417\n",
            "             M       12.516618\n"
          ],
          "name": "stdout"
        }
      ]
    },
    {
      "cell_type": "markdown",
      "metadata": {
        "id": "wF8byR4-hRus"
      },
      "source": [
        "# EDA"
      ]
    },
    {
      "cell_type": "code",
      "metadata": {
        "colab": {
          "base_uri": "https://localhost:8080/",
          "height": 430
        },
        "id": "sMYdRgPohNQR",
        "outputId": "a40e59e2-c9e1-448f-baaa-c309976cfad9"
      },
      "source": [
        "# Create bee swarm plot for beak depth\n",
        "\n",
        "g = sns.catplot(kind='violin',data=ab_test_results, x='group', y='spent', hue='group')\n",
        "g.fig.suptitle(\"\\n Beak depth\", y= 1.09, alpha=0.7)\n",
        "\n",
        "plt.show()"
      ],
      "execution_count": null,
      "outputs": [
        {
          "output_type": "display_data",
          "data": {
            "image/png": "[encoded data removed]",
            "text/plain": [
              "<Figure size 360x360 with 1 Axes>"
            ]
          },
          "metadata": {
            "tags": []
          }
        }
      ]
    },
    {
      "cell_type": "code",
      "metadata": {
        "id": "gpwvI25ciGZt"
      },
      "source": [
        "# Function of ecdf for pandas series.\n",
        "\n",
        "def ecdf(data):\n",
        "    \"\"\"Compute ECDF for a pandas series\"\"\"\n",
        "    # Number of data points: n\n",
        "    n = data.shape[0]\n",
        "\n",
        "    # x-data for the ECDF: x\n",
        "    x = data.sort_values()\n",
        "\n",
        "    # y-data for the ECDF: y\n",
        "    y = np.arange(1, n+1) / n\n",
        "\n",
        "    return x, y"
      ],
      "execution_count": null,
      "outputs": []
    },
    {
      "cell_type": "code",
      "metadata": {
        "colab": {
          "base_uri": "https://localhost:8080/",
          "height": 319
        },
        "id": "Agsh6MPliKE7",
        "outputId": "19ec8de1-ea12-411a-9d60-a3ffdabc1840"
      },
      "source": [
        "# Compute ECDFs\n",
        "xa, ya = ecdf(ab_test_results[ab_test_results.group == 'GRP A']['spent'])\n",
        "xb, yb = ecdf(ab_test_results[ab_test_results.group == 'GRP B']['spent'])\n",
        "\n",
        "plt.plot(xa, ya, marker='.', linestyle='none', alpha=0.1)\n",
        "plt.plot(xb, yb, marker='.', linestyle='none', alpha=0.1)\n",
        "plt.margins(0.02)\n",
        "plt.title('ECDF', y= 1.09, alpha=0.7)\n",
        "plt.xlabel('spent')\n",
        "plt.ylabel('ECDF')\n",
        "plt.legend(('GRP A', 'GRP B'), loc='lower right')\n",
        "\n",
        "# Show the plot\n",
        "plt.show()"
      ],
      "execution_count": null,
      "outputs": [
        {
          "output_type": "display_data",
          "data": {
            "image/png": "[encoded data removed]",
            "text/plain": [
              "<Figure size 432x288 with 1 Axes>"
            ]
          },
          "metadata": {
            "tags": []
          }
        }
      ]
    },
    {
      "cell_type": "markdown",
      "metadata": {
        "id": "n4hl70wbkBIt"
      },
      "source": [
        "# We want to test the hypothesis that both lengths have the same mean, but not necessarily the same distribution."
      ]
    },
    {
      "cell_type": "code",
      "metadata": {
        "id": "ygbwOaicgt6y"
      },
      "source": [
        "grp_a = ab_test_results[ab_test_results.group == 'GRP A']['spent']\n",
        "grp_b = ab_test_results[ab_test_results.group == 'GRP B']['spent']"
      ],
      "execution_count": null,
      "outputs": []
    },
    {
      "cell_type": "code",
      "metadata": {
        "id": "AFcEgJM8kWv9"
      },
      "source": [
        "empirical_diff_means = np.mean(grp_b) - np.mean(grp_a)\n",
        "\n",
        "# Compute mean of all test results\n",
        "mean_spent = ab_test_results['spent'].mean()\n",
        "\n",
        "# Generate shifted arrays\n",
        "a_shifted = grp_a - np.mean(grp_a) + mean_spent\n",
        "b_shifted = grp_b - np.mean(grp_b) + mean_spent"
      ],
      "execution_count": null,
      "outputs": []
    },
    {
      "cell_type": "code",
      "metadata": {
        "id": "_Ju-uRcMkz1H"
      },
      "source": [
        "# Bootstrap replicate functions\n",
        "\n",
        "def bootstrap_replicate_1d(data, func):\n",
        "  \"\"\"Generate bootstrap replicate of 1D data\"\"\"\n",
        "  bs_sample = np.random.choice(data, len(data))\n",
        "  return func(bs_sample)\n",
        "\n",
        "def draw_bs_reps(data, func, size=1):\n",
        "    \"\"\"Draw bootstrap replicates.\"\"\"\n",
        "\n",
        "    # Initialize array of replicates: bs_replicates\n",
        "    bs_replicates = np.empty(size)\n",
        "\n",
        "    # Generate replicates\n",
        "    for i in range(size):\n",
        "        bs_replicates[i] = bootstrap_replicate_1d(data, func)\n",
        "\n",
        "    return bs_replicates"
      ],
      "execution_count": null,
      "outputs": []
    },
    {
      "cell_type": "code",
      "metadata": {
        "colab": {
          "base_uri": "https://localhost:8080/"
        },
        "id": "5_yyx1X4kDUG",
        "outputId": "da21e0a7-d5bf-43e7-84e2-64b7a94e1674"
      },
      "source": [
        "# Compute 10,000 bootstrap replicates from shifted arrays\n",
        "bs_replicates_a = draw_bs_reps(a_shifted, np.mean, size=10000)\n",
        "bs_replicates_b = draw_bs_reps(b_shifted, np.mean, size=10000)\n",
        "\n",
        "# Get replicates of difference of means: bs_replicates\n",
        "bs_replicates = bs_replicates_b - bs_replicates_a\n",
        "\n",
        "# Compute and print p-value: p\n",
        "p = np.sum(bs_replicates >= empirical_diff_means) / len(bs_replicates)\n",
        "print('p-value =', p)\n"
      ],
      "execution_count": null,
      "outputs": [
        {
          "output_type": "stream",
          "text": [
            "p-value = 0.3307\n"
          ],
          "name": "stdout"
        }
      ]
    },
    {
      "cell_type": "markdown",
      "metadata": {
        "id": "yub7OBCzmOlH"
      },
      "source": [
        "There is a 33% chance of observing a difference of mean as equal or higher than the observed one. \n",
        "\n",
        "There is no strong statistical inference that determines spendings has been changed."
      ]
    }
  ]
}